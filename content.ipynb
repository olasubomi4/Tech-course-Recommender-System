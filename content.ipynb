{
 "cells": [
  {
   "cell_type": "code",
   "execution_count": 1,
   "metadata": {},
   "outputs": [
    {
     "name": "stderr",
     "output_type": "stream",
     "text": [
      "c:\\Python313\\Lib\\site-packages\\tqdm\\auto.py:21: TqdmWarning: IProgress not found. Please update jupyter and ipywidgets. See https://ipywidgets.readthedocs.io/en/stable/user_install.html\n",
      "  from .autonotebook import tqdm as notebook_tqdm\n"
     ]
    }
   ],
   "source": [
    "import pandas as pd\n",
    "import numpy as np\n",
    "from sklearn.feature_extraction.text import CountVectorizer, TfidfVectorizer\n",
    "from sklearn.metrics.pairwise import cosine_similarity\n",
    "from sentence_transformers import SentenceTransformer\n",
    "import nltk\n",
    "from nltk.corpus import stopwords\n",
    "import re\n",
    "import neattext.functions as nfx"
   ]
  },
  {
   "cell_type": "code",
   "execution_count": 2,
   "metadata": {},
   "outputs": [
    {
     "name": "stdout",
     "output_type": "stream",
     "text": [
      "Courses Data Shape is (52433, 20)\n",
      "Comments Data Shape is (2352931, 6)\n"
     ]
    }
   ],
   "source": [
    "comments_data = pd.read_csv('./Comments.csv')\n",
    "courses_data = pd.read_csv('./Course_info.csv')\n",
    "\n",
    "courses_data = courses_data.head(len(courses_data)//4)\n",
    "comments_data=comments_data.head(len(comments_data)//4)\n",
    "\n",
    "print('Courses Data Shape is', courses_data.shape)\n",
    "print('Comments Data Shape is', comments_data.shape)"
   ]
  },
  {
   "cell_type": "code",
   "execution_count": null,
   "metadata": {},
   "outputs": [
    {
     "data": {
      "text/plain": [
       "headline\n",
       "Treinamento Mental com Tecnologia de Ondas Cerebrais - Brainwave                                                            27\n",
       "Study Guide for the California Police Academy (P.O.S.T.) Written Examination                                                23\n",
       "Treinamento Mental - Tecnologia de Ondas Cerebrais - Brainwave                                                              18\n",
       "Mejora tu salud, belleza y personalidad acorde con tu signo zodiacal.                                                       12\n",
       "Practice Test with Explanations  -Reading Skills, Examination Skills, Tips and Guidance                                     11\n",
       "                                                                                                                            ..\n",
       "Crea estrategias en Pinescript  de la plataforma Trading View                                                                1\n",
       "Uso de flash em eventos                                                                                                      1\n",
       "Learn to Setup pfSense Open Source Firewall, Configurations, Captive Portal etc in an Actual as well as Virtual Scenario     1\n",
       "Cloud Computing Concepts                                                                                                     1\n",
       "Pass The CCNP SWITCH 300-115 Exam With Chris Bryant -- AND Prepare For Real-World Networking Success!                        1\n",
       "Name: count, Length: 51559, dtype: int64"
      ]
     },
     "execution_count": 3,
     "metadata": {},
     "output_type": "execute_result"
    }
   ],
   "source": [
    "# Check data reliability\n",
    "courses_data['title'].value_counts()\n",
    "courses_data['headline'].value_counts()"
   ]
  },
  {
   "cell_type": "code",
   "execution_count": null,
   "metadata": {},
   "outputs": [
    {
     "name": "stderr",
     "output_type": "stream",
     "text": [
      "[nltk_data] Downloading package stopwords to\n",
      "[nltk_data]     C:\\Users\\okafo\\AppData\\Roaming\\nltk_data...\n",
      "[nltk_data]   Package stopwords is already up-to-date!\n"
     ]
    }
   ],
   "source": [
    "# Download stopwords if not already downloaded\n",
    "nltk.download('stopwords')\n",
    "stop_words = set(stopwords.words('english'))\n",
    "\n",
    "# Function to clean text\n",
    "def clean_text(text):\n",
    "    # Remove special characters (keeping only alphanumeric and spaces)\n",
    "    text = re.sub(r'[^a-zA-Z0-9\\s]', '', text)\n",
    "    # Remove stopwords\n",
    "    text = ' '.join(word for word in text.split() if word.lower() not in stop_words)\n",
    "    return text\n",
    "\n",
    "courses_data['title_clean'] = courses_data['title'].apply(clean_text)\n",
    "\n",
    "courses_data['headline'] = courses_data['headline'].astype(str)\n",
    "courses_data['headline_clean'] = courses_data['headline'].apply(clean_text)\n"
   ]
  },
  {
   "cell_type": "code",
   "execution_count": 5,
   "metadata": {},
   "outputs": [],
   "source": [
    "courses_index = pd.Series(courses_data.index, index=courses_data['title']).drop_duplicates()"
   ]
  },
  {
   "cell_type": "code",
   "execution_count": 6,
   "metadata": {},
   "outputs": [],
   "source": [
    "# Vectorize course titles and headlines\n",
    "model = SentenceTransformer('all-MiniLM-L6-v2')\n",
    "\n",
    "title_count_matrix = model.encode(courses_data['title_clean'].tolist())\n",
    "headline_count_matrix = model.encode(courses_data['headline_clean'].tolist())"
   ]
  },
  {
   "cell_type": "code",
   "execution_count": 18,
   "metadata": {},
   "outputs": [],
   "source": [
    "# Assign weights to title and headline similarities to give title more importance\n",
    "def search_courses(query, model, top_n=5, title_weight=0.7, headline_weight=0.3):\n",
    "    query_vector = model.encode([query])\n",
    "\n",
    "    title_sim_scores = cosine_similarity(query_vector, title_count_matrix)[0]\n",
    "    headline_sim_scores = cosine_similarity(query_vector, headline_count_matrix)[0]\n",
    "\n",
    "    # Combine similarities of title and headline\n",
    "    combined_scores = (title_weight * title_sim_scores) + (headline_weight * headline_sim_scores)\n",
    "\n",
    "    similar_indices = np.argsort(combined_scores)[::-1][:top_n]\n",
    "\n",
    "    print(f\"Recommendations done for: {query}\\n\")\n",
    "    \n",
    "    result_table = courses_data.iloc[similar_indices][['title', 'headline']]\n",
    "\n",
    "    return result_table\n",
    "\n",
    "\n",
    "\n",
    "def search_courses_by_category(query, model, category=None, sub_category=None, top_n=5, title_weight=0.6, headline_weight=0.4):\n",
    "    query_vector = model.encode([query])\n",
    "\n",
    "    filtered_courses = courses_data\n",
    "    if category:\n",
    "        filtered_courses = filtered_courses[filtered_courses['category'] == category]\n",
    "    if sub_category:\n",
    "        filtered_courses = filtered_courses[filtered_courses['subcategory'] == sub_category]\n",
    "\n",
    "    if filtered_courses.empty:\n",
    "        return pd.DataFrame(columns=['title', 'headline'])\n",
    "\n",
    "    title_matrix = model.encode(filtered_courses['title_clean'].tolist())\n",
    "    headline_matrix = model.encode(filtered_courses['headline_clean'].tolist())\n",
    "\n",
    "    title_sim = cosine_similarity(query_vector, title_matrix)[0]\n",
    "    headline_sim = cosine_similarity(query_vector, headline_matrix)[0]\n",
    "\n",
    "    combined_score = title_weight * title_sim + headline_weight * headline_sim\n",
    "    top_indices = np.argsort(combined_score)[::-1][:top_n]\n",
    "\n",
    "    print(\"Recommendations done for\", query)\n",
    "    if category:\n",
    "        print(\"Category:\", category)\n",
    "    if sub_category:\n",
    "        print(\"Sub Category:\", sub_category)\n",
    "\n",
    "    return filtered_courses.iloc[top_indices][['title', 'headline', 'category', 'subcategory']]"
   ]
  },
  {
   "cell_type": "code",
   "execution_count": 26,
   "metadata": {},
   "outputs": [
    {
     "name": "stdout",
     "output_type": "stream",
     "text": [
      "Recommendations done for: Gift Making\n",
      "\n"
     ]
    },
    {
     "data": {
      "text/html": [
       "<div>\n",
       "<style scoped>\n",
       "    .dataframe tbody tr th:only-of-type {\n",
       "        vertical-align: middle;\n",
       "    }\n",
       "\n",
       "    .dataframe tbody tr th {\n",
       "        vertical-align: top;\n",
       "    }\n",
       "\n",
       "    .dataframe thead th {\n",
       "        text-align: right;\n",
       "    }\n",
       "</style>\n",
       "<table border=\"1\" class=\"dataframe\">\n",
       "  <thead>\n",
       "    <tr style=\"text-align: right;\">\n",
       "      <th></th>\n",
       "      <th>title</th>\n",
       "      <th>headline</th>\n",
       "    </tr>\n",
       "  </thead>\n",
       "  <tbody>\n",
       "    <tr>\n",
       "      <th>8150</th>\n",
       "      <td>Gift Basket Making in 10 Simple Steps</td>\n",
       "      <td>I'm Denise Riley \"The Gift Basket Lady\". I wil...</td>\n",
       "    </tr>\n",
       "    <tr>\n",
       "      <th>3186</th>\n",
       "      <td>How to Make an Exploding Gift Box</td>\n",
       "      <td>A step by step guide to creating the perfect g...</td>\n",
       "    </tr>\n",
       "    <tr>\n",
       "      <th>40688</th>\n",
       "      <td>Design a Gift Box in Fusion 360</td>\n",
       "      <td>Sharpen your Fusion 360 skills while modeling ...</td>\n",
       "    </tr>\n",
       "  </tbody>\n",
       "</table>\n",
       "</div>"
      ],
      "text/plain": [
       "                                       title  \\\n",
       "8150   Gift Basket Making in 10 Simple Steps   \n",
       "3186       How to Make an Exploding Gift Box   \n",
       "40688        Design a Gift Box in Fusion 360   \n",
       "\n",
       "                                                headline  \n",
       "8150   I'm Denise Riley \"The Gift Basket Lady\". I wil...  \n",
       "3186   A step by step guide to creating the perfect g...  \n",
       "40688  Sharpen your Fusion 360 skills while modeling ...  "
      ]
     },
     "execution_count": 26,
     "metadata": {},
     "output_type": "execute_result"
    }
   ],
   "source": [
    "# Example: Search for courses related to \"Gift Making\"\n",
    "search_courses(\"Gift Making\", model, top_n=3)"
   ]
  },
  {
   "cell_type": "code",
   "execution_count": 27,
   "metadata": {},
   "outputs": [
    {
     "name": "stdout",
     "output_type": "stream",
     "text": [
      "Recommendations done for: Machine Learning Basics\n",
      "\n"
     ]
    },
    {
     "data": {
      "text/html": [
       "<div>\n",
       "<style scoped>\n",
       "    .dataframe tbody tr th:only-of-type {\n",
       "        vertical-align: middle;\n",
       "    }\n",
       "\n",
       "    .dataframe tbody tr th {\n",
       "        vertical-align: top;\n",
       "    }\n",
       "\n",
       "    .dataframe thead th {\n",
       "        text-align: right;\n",
       "    }\n",
       "</style>\n",
       "<table border=\"1\" class=\"dataframe\">\n",
       "  <thead>\n",
       "    <tr style=\"text-align: right;\">\n",
       "      <th></th>\n",
       "      <th>title</th>\n",
       "      <th>headline</th>\n",
       "    </tr>\n",
       "  </thead>\n",
       "  <tbody>\n",
       "    <tr>\n",
       "      <th>40678</th>\n",
       "      <td>Machine Learning : A Beginner's Basic Introduc...</td>\n",
       "      <td>Learn Machine  Learning Basics with a Practica...</td>\n",
       "    </tr>\n",
       "    <tr>\n",
       "      <th>34829</th>\n",
       "      <td>Machine Learning for beginners</td>\n",
       "      <td>Azure Machine Learning</td>\n",
       "    </tr>\n",
       "    <tr>\n",
       "      <th>27172</th>\n",
       "      <td>Machine Learning with Python</td>\n",
       "      <td>All about Machine learning</td>\n",
       "    </tr>\n",
       "  </tbody>\n",
       "</table>\n",
       "</div>"
      ],
      "text/plain": [
       "                                                   title  \\\n",
       "40678  Machine Learning : A Beginner's Basic Introduc...   \n",
       "34829                     Machine Learning for beginners   \n",
       "27172                       Machine Learning with Python   \n",
       "\n",
       "                                                headline  \n",
       "40678  Learn Machine  Learning Basics with a Practica...  \n",
       "34829                             Azure Machine Learning  \n",
       "27172                         All about Machine learning  "
      ]
     },
     "execution_count": 27,
     "metadata": {},
     "output_type": "execute_result"
    }
   ],
   "source": [
    "# Example: Search for courses related to \"Machine Learning\"\n",
    "search_courses(\"Machine Learning Basics\", model, top_n=3)"
   ]
  },
  {
   "cell_type": "code",
   "execution_count": 38,
   "metadata": {},
   "outputs": [
    {
     "name": "stdout",
     "output_type": "stream",
     "text": [
      "Recommendations done for: Excel for Experts\n",
      "\n"
     ]
    },
    {
     "data": {
      "text/html": [
       "<div>\n",
       "<style scoped>\n",
       "    .dataframe tbody tr th:only-of-type {\n",
       "        vertical-align: middle;\n",
       "    }\n",
       "\n",
       "    .dataframe tbody tr th {\n",
       "        vertical-align: top;\n",
       "    }\n",
       "\n",
       "    .dataframe thead th {\n",
       "        text-align: right;\n",
       "    }\n",
       "</style>\n",
       "<table border=\"1\" class=\"dataframe\">\n",
       "  <thead>\n",
       "    <tr style=\"text-align: right;\">\n",
       "      <th></th>\n",
       "      <th>title</th>\n",
       "      <th>headline</th>\n",
       "    </tr>\n",
       "  </thead>\n",
       "  <tbody>\n",
       "    <tr>\n",
       "      <th>49440</th>\n",
       "      <td>エクセルで家計簿を作ろう！~初級編~　簡単な操作だけで家計簿が作れちゃう！Excel初心者、...</td>\n",
       "      <td>簡単な関数だけを使ってExcelで家計簿を作成していきましょう！エクセルが初めてという方やこ...</td>\n",
       "    </tr>\n",
       "    <tr>\n",
       "      <th>34833</th>\n",
       "      <td>Хитрости работы с EXCEL</td>\n",
       "      <td>Лайфхаки начинающим пользователям EXCEL для бо...</td>\n",
       "    </tr>\n",
       "    <tr>\n",
       "      <th>14994</th>\n",
       "      <td>まるで手品！集計に最適！Excelのピボットテーブル活用方法！</td>\n",
       "      <td>Excelで集計するならピボットテーブル！大量のデータも一発で集計！数秒のマウス操作で、管理...</td>\n",
       "    </tr>\n",
       "  </tbody>\n",
       "</table>\n",
       "</div>"
      ],
      "text/plain": [
       "                                                   title  \\\n",
       "49440  エクセルで家計簿を作ろう！~初級編~　簡単な操作だけで家計簿が作れちゃう！Excel初心者、...   \n",
       "34833                            Хитрости работы с EXCEL   \n",
       "14994                    まるで手品！集計に最適！Excelのピボットテーブル活用方法！   \n",
       "\n",
       "                                                headline  \n",
       "49440  簡単な関数だけを使ってExcelで家計簿を作成していきましょう！エクセルが初めてという方やこ...  \n",
       "34833  Лайфхаки начинающим пользователям EXCEL для бо...  \n",
       "14994  Excelで集計するならピボットテーブル！大量のデータも一発で集計！数秒のマウス操作で、管理...  "
      ]
     },
     "execution_count": 38,
     "metadata": {},
     "output_type": "execute_result"
    }
   ],
   "source": [
    "# Example: Search for courses related to \"Excel\" without category filter\n",
    "search_courses(\"Excel for Experts\", model, top_n=3)"
   ]
  },
  {
   "cell_type": "code",
   "execution_count": 37,
   "metadata": {},
   "outputs": [
    {
     "name": "stdout",
     "output_type": "stream",
     "text": [
      "Recommendations done for Excel for Experts\n",
      "Category: Office Productivity\n"
     ]
    },
    {
     "data": {
      "text/html": [
       "<div>\n",
       "<style scoped>\n",
       "    .dataframe tbody tr th:only-of-type {\n",
       "        vertical-align: middle;\n",
       "    }\n",
       "\n",
       "    .dataframe tbody tr th {\n",
       "        vertical-align: top;\n",
       "    }\n",
       "\n",
       "    .dataframe thead th {\n",
       "        text-align: right;\n",
       "    }\n",
       "</style>\n",
       "<table border=\"1\" class=\"dataframe\">\n",
       "  <thead>\n",
       "    <tr style=\"text-align: right;\">\n",
       "      <th></th>\n",
       "      <th>title</th>\n",
       "      <th>headline</th>\n",
       "      <th>category</th>\n",
       "      <th>subcategory</th>\n",
       "    </tr>\n",
       "  </thead>\n",
       "  <tbody>\n",
       "    <tr>\n",
       "      <th>14994</th>\n",
       "      <td>まるで手品！集計に最適！Excelのピボットテーブル活用方法！</td>\n",
       "      <td>Excelで集計するならピボットテーブル！大量のデータも一発で集計！数秒のマウス操作で、管理...</td>\n",
       "      <td>Office Productivity</td>\n",
       "      <td>Microsoft</td>\n",
       "    </tr>\n",
       "    <tr>\n",
       "      <th>26225</th>\n",
       "      <td>Excel in Microsoft Excel 2: Intermediate to Ex...</td>\n",
       "      <td>Get Expert certified! Levels 6-10 for Microsof...</td>\n",
       "      <td>Office Productivity</td>\n",
       "      <td>Microsoft</td>\n",
       "    </tr>\n",
       "    <tr>\n",
       "      <th>37435</th>\n",
       "      <td>Microsoft Excel - Продвинутый пользователь Excel</td>\n",
       "      <td>Станьте мастером Excel, изучая продвинутые воз...</td>\n",
       "      <td>Office Productivity</td>\n",
       "      <td>Microsoft</td>\n",
       "    </tr>\n",
       "  </tbody>\n",
       "</table>\n",
       "</div>"
      ],
      "text/plain": [
       "                                                   title  \\\n",
       "14994                    まるで手品！集計に最適！Excelのピボットテーブル活用方法！   \n",
       "26225  Excel in Microsoft Excel 2: Intermediate to Ex...   \n",
       "37435   Microsoft Excel - Продвинутый пользователь Excel   \n",
       "\n",
       "                                                headline             category  \\\n",
       "14994  Excelで集計するならピボットテーブル！大量のデータも一発で集計！数秒のマウス操作で、管理...  Office Productivity   \n",
       "26225  Get Expert certified! Levels 6-10 for Microsof...  Office Productivity   \n",
       "37435  Станьте мастером Excel, изучая продвинутые воз...  Office Productivity   \n",
       "\n",
       "      subcategory  \n",
       "14994   Microsoft  \n",
       "26225   Microsoft  \n",
       "37435   Microsoft  "
      ]
     },
     "execution_count": 37,
     "metadata": {},
     "output_type": "execute_result"
    }
   ],
   "source": [
    "# Example: Search for courses related to \"Excel\" with category filter\n",
    "search_courses_by_category(\"Excel for Experts\", model, category='Office Productivity', top_n=3)"
   ]
  }
 ],
 "metadata": {
  "kernelspec": {
   "display_name": "Python 3",
   "language": "python",
   "name": "python3"
  },
  "language_info": {
   "codemirror_mode": {
    "name": "ipython",
    "version": 3
   },
   "file_extension": ".py",
   "mimetype": "text/x-python",
   "name": "python",
   "nbconvert_exporter": "python",
   "pygments_lexer": "ipython3",
   "version": "3.13.1"
  }
 },
 "nbformat": 4,
 "nbformat_minor": 2
}
